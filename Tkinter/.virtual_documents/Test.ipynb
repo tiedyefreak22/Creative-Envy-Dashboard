import pandas as pd
import numpy as np
from scipy.interpolate import CubicSpline, UnivariateSpline, InterpolatedUnivariateSpline, interp1d
from datetime import datetime
from math import floor
import matplotlib.pyplot as plt
from BEE_WEATHER_DATA import BROODMINDER_GET, AMBIENT_GET, READ_HIVE, PROCESS_HIVE, READ_BEE_WEATHER, PROCESS_BEE_WEATHER, PROCESS_AMBIENT, GRAPH_DATA, GET_MOON_IMAGE, GET_FORECAST, PROCESS_FORECAST

hive_name = "New Left Hive"
key = 1

if key == 1:
    Data = PROCESS_AMBIENT()
    display(Data)
    #GRAPH_DATA(Data)
if key == 2:
    Data = PROCESS_BEE_WEATHER()
    #display(Data)
    GRAPH_DATA(Data)
if key == 3:
    Data = PROCESS_HIVE(hive_name, interp=1)
    #display(Data)
    [GRAPH_DATA(Data[str(i)]) for i in Data.keys()]
if key == 4:
    pix = GET_MOON_IMAGE(216, save=1)
    plt.imshow(pix)
    plt.show()
if key == 5:
    data = GET_FORECAST()
    response = PROCESS_FORECAST(data)
    display(response)

print("Done")


from datetime import datetime, date, timedelta
import pandas as pd
from BEE_WEATHER_DATA import BROODMINDER_GET, AMBIENT_GET, READ_HIVE, PROCESS_HIVE, READ_BEE_WEATHER, PROCESS_BEE_WEATHER, PROCESS_AMBIENT, GRAPH_DATA, GET_MOON_IMAGE, GET_FORECAST, PROCESS_FORECAST
response = PROCESS_FORECAST()
def PROCESS_FORECAST_MIN_MAX(response):
    prior_midnight = int(datetime.timestamp(datetime.strptime(str(date.today()) + " 00:00:00", '%Y-%m-%d %H:%M:%S')))
    future_midnight = int(datetime.timestamp(datetime.strptime(str(date.today() + timedelta(days=1)) + " 00:00:00", '%Y-%m-%d %H:%M:%S')))
    todays_forecast = pd.DataFrame([response.loc[i] for i in response.index.values.tolist() if i <= future_midnight and i >= prior_midnight])
    max_temp = max(todays_forecast["temp_max"])
    min_temp = min(todays_forecast["temp_max"])
    max_humid = max(todays_forecast["humidity"])
    min_humid = min(todays_forecast["humidity"])
    # max_wind = max(todays_forecast["wind"])
    # min_wind = min(todays_forecast["wind"])
    return max_temp, min_temp, max_humid, min_humid#, max_wind, min_wind
PROCESS_FORECAST_MIN_MAX(response)
display(response)


import socket
import dns.resolver

# Basic query
for rdata in dns.resolver.query('www.yahoo.com', 'CNAME') :
    print(rdata.target)

# Set the DNS Server
resolver = dns.resolver.Resolver()
resolver.nameservers=[socket.gethostbyname('ns1.cisco.com')]
for rdata in resolver.query('www.yahoo.com', 'CNAME') :
    print(rdata.target)



