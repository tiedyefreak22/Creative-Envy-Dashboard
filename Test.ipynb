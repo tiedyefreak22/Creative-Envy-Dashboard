{
 "cells": [
  {
   "cell_type": "code",
   "execution_count": 1,
   "id": "efbaeded-2bfe-4d94-9e81-091adfeda23c",
   "metadata": {
    "tags": []
   },
   "outputs": [
    {
     "name": "stdout",
     "output_type": "stream",
     "text": [
      "Processing Broodminder data.\n",
      "Reading Broodminder data.\n"
     ]
    },
    {
     "ename": "KeyError",
     "evalue": "'Unix_Time'",
     "output_type": "error",
     "traceback": [
      "\u001b[1;31m---------------------------------------------------------------------------\u001b[0m",
      "\u001b[1;31mKeyError\u001b[0m                                  Traceback (most recent call last)",
      "File \u001b[1;32mC:\\ProgramData\\miniforge3\\envs\\tkinter\\Lib\\site-packages\\pandas\\core\\indexes\\base.py:3805\u001b[0m, in \u001b[0;36mIndex.get_loc\u001b[1;34m(self, key)\u001b[0m\n\u001b[0;32m   3804\u001b[0m \u001b[38;5;28;01mtry\u001b[39;00m:\n\u001b[1;32m-> 3805\u001b[0m     \u001b[38;5;28;01mreturn\u001b[39;00m \u001b[38;5;28;43mself\u001b[39;49m\u001b[38;5;241;43m.\u001b[39;49m\u001b[43m_engine\u001b[49m\u001b[38;5;241;43m.\u001b[39;49m\u001b[43mget_loc\u001b[49m\u001b[43m(\u001b[49m\u001b[43mcasted_key\u001b[49m\u001b[43m)\u001b[49m\n\u001b[0;32m   3806\u001b[0m \u001b[38;5;28;01mexcept\u001b[39;00m \u001b[38;5;167;01mKeyError\u001b[39;00m \u001b[38;5;28;01mas\u001b[39;00m err:\n",
      "File \u001b[1;32mindex.pyx:167\u001b[0m, in \u001b[0;36mpandas._libs.index.IndexEngine.get_loc\u001b[1;34m()\u001b[0m\n",
      "File \u001b[1;32mindex.pyx:196\u001b[0m, in \u001b[0;36mpandas._libs.index.IndexEngine.get_loc\u001b[1;34m()\u001b[0m\n",
      "File \u001b[1;32mpandas\\\\_libs\\\\hashtable_class_helper.pxi:7081\u001b[0m, in \u001b[0;36mpandas._libs.hashtable.PyObjectHashTable.get_item\u001b[1;34m()\u001b[0m\n",
      "File \u001b[1;32mpandas\\\\_libs\\\\hashtable_class_helper.pxi:7089\u001b[0m, in \u001b[0;36mpandas._libs.hashtable.PyObjectHashTable.get_item\u001b[1;34m()\u001b[0m\n",
      "\u001b[1;31mKeyError\u001b[0m: 'Unix_Time'",
      "\nThe above exception was the direct cause of the following exception:\n",
      "\u001b[1;31mKeyError\u001b[0m                                  Traceback (most recent call last)",
      "Cell \u001b[1;32mIn[1], line 22\u001b[0m\n\u001b[0;32m     20\u001b[0m     GRAPH_DATA(Data)\n\u001b[0;32m     21\u001b[0m \u001b[38;5;28;01mif\u001b[39;00m key \u001b[38;5;241m==\u001b[39m \u001b[38;5;241m3\u001b[39m:\n\u001b[1;32m---> 22\u001b[0m     Data \u001b[38;5;241m=\u001b[39m \u001b[43mPROCESS_HIVE\u001b[49m\u001b[43m(\u001b[49m\u001b[43mhive_name\u001b[49m\u001b[43m,\u001b[49m\u001b[43m \u001b[49m\u001b[43minterp\u001b[49m\u001b[38;5;241;43m=\u001b[39;49m\u001b[38;5;241;43m1\u001b[39;49m\u001b[43m)\u001b[49m\n\u001b[0;32m     23\u001b[0m     \u001b[38;5;66;03m#display(Data)\u001b[39;00m\n\u001b[0;32m     24\u001b[0m     [GRAPH_DATA(Data[\u001b[38;5;28mstr\u001b[39m(i)]) \u001b[38;5;28;01mfor\u001b[39;00m i \u001b[38;5;129;01min\u001b[39;00m Data\u001b[38;5;241m.\u001b[39mkeys()]\n",
      "File \u001b[1;32m~\\OneDrive\\Documents\\GitHub\\Creative-Envy-Dashboard\\BEE_WEATHER_DATA.py:242\u001b[0m, in \u001b[0;36mPROCESS_HIVE\u001b[1;34m(hive_name, interp)\u001b[0m\n\u001b[0;32m    240\u001b[0m Temp_Dict \u001b[38;5;241m=\u001b[39m {}\n\u001b[0;32m    241\u001b[0m \u001b[38;5;28;01mif\u001b[39;00m \u001b[38;5;129;01mnot\u001b[39;00m \u001b[38;5;28mstr\u001b[39m(cat) \u001b[38;5;241m==\u001b[39m \u001b[38;5;124m\"\u001b[39m\u001b[38;5;124mDevice\u001b[39m\u001b[38;5;124m\"\u001b[39m \u001b[38;5;129;01mand\u001b[39;00m \u001b[38;5;129;01mnot\u001b[39;00m \u001b[38;5;28mstr\u001b[39m(cat) \u001b[38;5;241m==\u001b[39m \u001b[38;5;124m\"\u001b[39m\u001b[38;5;124mHive_Position\u001b[39m\u001b[38;5;124m\"\u001b[39m \u001b[38;5;129;01mand\u001b[39;00m \u001b[38;5;129;01mnot\u001b[39;00m \u001b[38;5;28mstr\u001b[39m(cat) \u001b[38;5;241m==\u001b[39m \u001b[38;5;124m\"\u001b[39m\u001b[38;5;124mUnix_Time\u001b[39m\u001b[38;5;124m\"\u001b[39m \u001b[38;5;129;01mand\u001b[39;00m \u001b[38;5;129;01mnot\u001b[39;00m \u001b[38;5;28mstr\u001b[39m(cat) \u001b[38;5;241m==\u001b[39m \u001b[38;5;124m\"\u001b[39m\u001b[38;5;124mSample\u001b[39m\u001b[38;5;124m\"\u001b[39m:\n\u001b[1;32m--> 242\u001b[0m     x \u001b[38;5;241m=\u001b[39m [\u001b[38;5;28mint\u001b[39m(i) \u001b[38;5;28;01mfor\u001b[39;00m i \u001b[38;5;129;01min\u001b[39;00m \u001b[43mWeek_Devices\u001b[49m\u001b[43m[\u001b[49m\u001b[38;5;28;43mstr\u001b[39;49m\u001b[43m(\u001b[49m\u001b[43mkey\u001b[49m\u001b[43m)\u001b[49m\u001b[43m]\u001b[49m\u001b[43m[\u001b[49m\u001b[38;5;124;43m\"\u001b[39;49m\u001b[38;5;124;43mUnix_Time\u001b[39;49m\u001b[38;5;124;43m\"\u001b[39;49m\u001b[43m]\u001b[49m\u001b[38;5;241m.\u001b[39mtolist()]\n\u001b[0;32m    243\u001b[0m     y \u001b[38;5;241m=\u001b[39m Week_Devices[\u001b[38;5;28mstr\u001b[39m(key)][\u001b[38;5;28mstr\u001b[39m(cat)]\n\u001b[0;32m    244\u001b[0m     \u001b[38;5;28;01mif\u001b[39;00m \u001b[38;5;129;01mnot\u001b[39;00m np\u001b[38;5;241m.\u001b[39mshape(x)[\u001b[38;5;241m0\u001b[39m] \u001b[38;5;241m==\u001b[39m \u001b[38;5;241m0\u001b[39m:\n",
      "File \u001b[1;32mC:\\ProgramData\\miniforge3\\envs\\tkinter\\Lib\\site-packages\\pandas\\core\\frame.py:4102\u001b[0m, in \u001b[0;36mDataFrame.__getitem__\u001b[1;34m(self, key)\u001b[0m\n\u001b[0;32m   4100\u001b[0m \u001b[38;5;28;01mif\u001b[39;00m \u001b[38;5;28mself\u001b[39m\u001b[38;5;241m.\u001b[39mcolumns\u001b[38;5;241m.\u001b[39mnlevels \u001b[38;5;241m>\u001b[39m \u001b[38;5;241m1\u001b[39m:\n\u001b[0;32m   4101\u001b[0m     \u001b[38;5;28;01mreturn\u001b[39;00m \u001b[38;5;28mself\u001b[39m\u001b[38;5;241m.\u001b[39m_getitem_multilevel(key)\n\u001b[1;32m-> 4102\u001b[0m indexer \u001b[38;5;241m=\u001b[39m \u001b[38;5;28;43mself\u001b[39;49m\u001b[38;5;241;43m.\u001b[39;49m\u001b[43mcolumns\u001b[49m\u001b[38;5;241;43m.\u001b[39;49m\u001b[43mget_loc\u001b[49m\u001b[43m(\u001b[49m\u001b[43mkey\u001b[49m\u001b[43m)\u001b[49m\n\u001b[0;32m   4103\u001b[0m \u001b[38;5;28;01mif\u001b[39;00m is_integer(indexer):\n\u001b[0;32m   4104\u001b[0m     indexer \u001b[38;5;241m=\u001b[39m [indexer]\n",
      "File \u001b[1;32mC:\\ProgramData\\miniforge3\\envs\\tkinter\\Lib\\site-packages\\pandas\\core\\indexes\\base.py:3812\u001b[0m, in \u001b[0;36mIndex.get_loc\u001b[1;34m(self, key)\u001b[0m\n\u001b[0;32m   3807\u001b[0m     \u001b[38;5;28;01mif\u001b[39;00m \u001b[38;5;28misinstance\u001b[39m(casted_key, \u001b[38;5;28mslice\u001b[39m) \u001b[38;5;129;01mor\u001b[39;00m (\n\u001b[0;32m   3808\u001b[0m         \u001b[38;5;28misinstance\u001b[39m(casted_key, abc\u001b[38;5;241m.\u001b[39mIterable)\n\u001b[0;32m   3809\u001b[0m         \u001b[38;5;129;01mand\u001b[39;00m \u001b[38;5;28many\u001b[39m(\u001b[38;5;28misinstance\u001b[39m(x, \u001b[38;5;28mslice\u001b[39m) \u001b[38;5;28;01mfor\u001b[39;00m x \u001b[38;5;129;01min\u001b[39;00m casted_key)\n\u001b[0;32m   3810\u001b[0m     ):\n\u001b[0;32m   3811\u001b[0m         \u001b[38;5;28;01mraise\u001b[39;00m InvalidIndexError(key)\n\u001b[1;32m-> 3812\u001b[0m     \u001b[38;5;28;01mraise\u001b[39;00m \u001b[38;5;167;01mKeyError\u001b[39;00m(key) \u001b[38;5;28;01mfrom\u001b[39;00m \u001b[38;5;21;01merr\u001b[39;00m\n\u001b[0;32m   3813\u001b[0m \u001b[38;5;28;01mexcept\u001b[39;00m \u001b[38;5;167;01mTypeError\u001b[39;00m:\n\u001b[0;32m   3814\u001b[0m     \u001b[38;5;66;03m# If we have a listlike key, _check_indexing_error will raise\u001b[39;00m\n\u001b[0;32m   3815\u001b[0m     \u001b[38;5;66;03m#  InvalidIndexError. Otherwise we fall through and re-raise\u001b[39;00m\n\u001b[0;32m   3816\u001b[0m     \u001b[38;5;66;03m#  the TypeError.\u001b[39;00m\n\u001b[0;32m   3817\u001b[0m     \u001b[38;5;28mself\u001b[39m\u001b[38;5;241m.\u001b[39m_check_indexing_error(key)\n",
      "\u001b[1;31mKeyError\u001b[0m: 'Unix_Time'"
     ]
    }
   ],
   "source": [
    "import pandas as pd\n",
    "import numpy as np\n",
    "from scipy.interpolate import CubicSpline, UnivariateSpline, InterpolatedUnivariateSpline, interp1d\n",
    "from datetime import datetime\n",
    "from math import floor\n",
    "import matplotlib.pyplot as plt\n",
    "from BEE_WEATHER_DATA import *\n",
    "\n",
    "hive_name = \"New Left Hive\"\n",
    "key = 2\n",
    "\n",
    "if key == 1:\n",
    "    Data = PROCESS_AMBIENT()\n",
    "    display(Data)\n",
    "    #GRAPH_DATA(Data)\n",
    "if key == 2:\n",
    "    Data = PROCESS_BEE_WEATHER()\n",
    "    print(Data.keys())\n",
    "    #display(Data)\n",
    "    GRAPH_DATA(Data)\n",
    "if key == 3:\n",
    "    Data = PROCESS_HIVE(hive_name, interp=1)\n",
    "    #display(Data)\n",
    "    [GRAPH_DATA(Data[str(i)]) for i in Data.keys()]\n",
    "if key == 4:\n",
    "    pix = GET_MOON_IMAGE(216, save=1)\n",
    "    plt.imshow(pix)\n",
    "    plt.show()\n",
    "if key == 5:\n",
    "    data = GET_FORECAST()\n",
    "    response = PROCESS_FORECAST(data)\n",
    "    display(response)\n",
    "\n",
    "print(\"Done\")"
   ]
  },
  {
   "cell_type": "code",
   "execution_count": 38,
   "id": "6b5b8bb8-e06f-4b51-86d8-42d2a2713d99",
   "metadata": {
    "tags": []
   },
   "outputs": [
    {
     "name": "stdout",
     "output_type": "stream",
     "text": [
      "Processing Broodminder data.\n",
      "Reading Broodminder data.\n",
      "dict_keys(['Lower Brood', 'Inner Cover', 'Upper Brood', 'Scale Under Hive'])\n",
      "95.07\n",
      "94.01\n"
     ]
    }
   ],
   "source": [
    "import ssl\n",
    "import requests\n",
    "import time as t\n",
    "from selenium.webdriver.common.by import By\n",
    "from selenium import webdriver\n",
    "from selenium.webdriver.chrome.service import Service\n",
    "from selenium.webdriver.chrome.options import Options\n",
    "import os\n",
    "import pandas as pd\n",
    "from glob import glob\n",
    "import numpy as np\n",
    "from scipy.interpolate import CubicSpline, UnivariateSpline, InterpolatedUnivariateSpline, interp1d, splrep, PchipInterpolator\n",
    "import re\n",
    "from math import floor\n",
    "import matplotlib.pyplot as plt\n",
    "#from decouple import config\n",
    "import requests\n",
    "from io import BytesIO\n",
    "from PIL import Image, ImageTk\n",
    "import json\n",
    "from datetime import date, datetime, timedelta, timezone\n",
    "import urllib.request\n",
    "import ssl\n",
    "import re\n",
    "import array\n",
    "import time as t\n",
    "import csv\n",
    "from csv import writer\n",
    "import numpy as np\n",
    "import itertools\n",
    "from send2trash import send2trash\n",
    "import dns.resolver\n",
    "import pytz\n",
    "import astral, astral.sun\n",
    "import PYICLOUD_GET\n",
    "from BEE_WEATHER_DATA import *\n",
    "\n",
    "hive_names = \"New Left Hive\"\n",
    "Hive_Processed = PROCESS_HIVE(hive_names)\n",
    "print(Hive_Processed.keys())\n",
    "print(list(Hive_Processed['Lower Brood']['Temperature'].items())[-1][1])\n",
    "print(min(Hive_Processed['Lower Brood']['Temperature']))"
   ]
  },
  {
   "cell_type": "code",
   "execution_count": 12,
   "id": "90140500-bb6f-43ba-8498-6892bf32d071",
   "metadata": {},
   "outputs": [
    {
     "name": "stdout",
     "output_type": "stream",
     "text": [
      "('Utah OW Nuc Right', 'dca02aae55b74ca1b1a6ac35042d2254')\n",
      "Processing Broodminder data.\n",
      "Reading Broodminder data.\n",
      "[]\n"
     ]
    }
   ],
   "source": [
    "from timers import *\n",
    "\n",
    "hive_IDs = {\"New Left Hive\": '6b5cb8b012cb45038eacc24770a2fff7',\n",
    "            \"Utah OW Nuc Left\": '13a71f80590a4184a2956058441c3be3',\n",
    "            \"Utah OW Nuc Right\": 'dca02aae55b74ca1b1a6ac35042d2254',\n",
    "           }\n",
    "\n",
    "print(list(hive_IDs.items())[-1])\n",
    "\n",
    "hive = Hive(*list(hive_IDs.items())[-1])\n",
    "hive.set()\n",
    "print(hive.get_weight())\n",
    "#display(New_Left_Hive.hive)"
   ]
  },
  {
   "cell_type": "code",
   "execution_count": 5,
   "id": "81794230-49a8-438d-ba1b-ef784f3e19f3",
   "metadata": {},
   "outputs": [
    {
     "name": "stdout",
     "output_type": "stream",
     "text": [
      "True\n",
      "Processing Broodminder data.\n",
      "Reading Broodminder data.\n"
     ]
    },
    {
     "data": {
      "text/plain": [
       "{'Lower Brood':             Rssi    Device Hive_Position  Sample  Battery  Temperature\n",
       " Unix_Time                                                             \n",
       " 1719766192    22  47:13:0C   Lower Brood   13105     58.0       164.22,\n",
       " 'Upper Brood':             Rssi    Device Hive_Position  Sample  Battery  Temperature  \\\n",
       " Unix_Time                                                                \n",
       " 1721311671    78  56:0B:D1   Upper Brood    1375      NaN        92.87   \n",
       " 1721315272    78  56:0B:D1   Upper Brood    1376     94.0        92.93   \n",
       " 1721318872    66  56:0B:D1   Upper Brood    1377      NaN        92.84   \n",
       " 1721322471    74  56:0B:D1   Upper Brood    1378     94.0        93.09   \n",
       " 1721326071    60  56:0B:D1   Upper Brood    1379      NaN        93.74   \n",
       " ...          ...       ...           ...     ...      ...          ...   \n",
       " 1721902024    64  56:0B:D1   Upper Brood    1570     94.0        93.61   \n",
       " 1721905624    70  56:0B:D1   Upper Brood    1571      NaN        93.45   \n",
       " 1721909224    64  56:0B:D1   Upper Brood    1572     94.0        93.36   \n",
       " 1721912823    72  56:0B:D1   Upper Brood    1573      NaN        93.11   \n",
       " 1721916423    74  56:0B:D1   Upper Brood    1574     94.0        93.09   \n",
       " \n",
       "             Humidity  \n",
       " Unix_Time             \n",
       " 1721311671      55.0  \n",
       " 1721315272      55.0  \n",
       " 1721318872      55.0  \n",
       " 1721322471      55.0  \n",
       " 1721326071      55.0  \n",
       " ...              ...  \n",
       " 1721902024      55.0  \n",
       " 1721905624      55.0  \n",
       " 1721909224      55.0  \n",
       " 1721912823      55.0  \n",
       " 1721916423      55.0  \n",
       " \n",
       " [169 rows x 7 columns]}"
      ]
     },
     "metadata": {},
     "output_type": "display_data"
    }
   ],
   "source": [
    "hive_name = \"Utah OW Nuc Right\"\n",
    "directory = \"Broodminder/\"\n",
    "print(os.path.exists(str(directory + str(hive_name) + \" Master.csv\")))\n",
    "\n",
    "display(PROCESS_HIVE(hive_name))"
   ]
  },
  {
   "cell_type": "code",
   "execution_count": null,
   "id": "18b446a4-b99d-49d0-8e9a-a526bc9fcd77",
   "metadata": {},
   "outputs": [],
   "source": []
  }
 ],
 "metadata": {
  "kernelspec": {
   "display_name": "Python 3 (ipykernel)",
   "language": "python",
   "name": "python3"
  },
  "language_info": {
   "codemirror_mode": {
    "name": "ipython",
    "version": 3
   },
   "file_extension": ".py",
   "mimetype": "text/x-python",
   "name": "python",
   "nbconvert_exporter": "python",
   "pygments_lexer": "ipython3",
   "version": "3.12.3"
  }
 },
 "nbformat": 4,
 "nbformat_minor": 5
}
