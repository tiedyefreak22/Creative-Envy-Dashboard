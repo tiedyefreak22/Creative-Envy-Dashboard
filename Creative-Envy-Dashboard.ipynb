{
 "cells": [
  {
   "cell_type": "code",
   "execution_count": null,
   "id": "8c6498a1-8870-4db0-966c-ca0086d63fd8",
   "metadata": {},
   "outputs": [
    {
     "name": "stdout",
     "output_type": "stream",
     "text": [
      "Signing in...\n",
      "Looking up all photos...\n",
      "Downloading 50 original photos to C:/Users/khard/OneDrive/Documents/GitHub/Creative-Envy-Dashboard/Photos/ ...\n"
     ]
    },
    {
     "name": "stderr",
     "output_type": "stream",
     "text": [
      "Downloading IMG_9456-original.TIF to C:/Users/khard/OneDrive/Documents/...s/2022/02/13/IMG_9456-original.TIF:   0%| | 0"
     ]
    },
    {
     "name": "stdout",
     "output_type": "stream",
     "text": [
      "Could not process IMG_8943.HEIC! Maybe try again later.\n",
      "Could not process IMG_9003.HEIC! Maybe try again later.\n",
      "34.0\n",
      "-34.0\n"
     ]
    },
    {
     "name": "stderr",
     "output_type": "stream",
     "text": [
      "Downloading IMG_1160-original.JPG to C:/Users/khard/OneDrive/Documents/...s/2016/11/01/IMG_1160-original.JPG:   6%| | 3"
     ]
    },
    {
     "name": "stdout",
     "output_type": "stream",
     "text": [
      "34.0\n",
      "-34.0\n"
     ]
    },
    {
     "name": "stderr",
     "output_type": "stream",
     "text": [
      "Downloading BeccaKevLa...iginal.jpg to C:/Users/khard/OneDrive/Documents/...0/05/30/BeccaKevLand3-original.jpg:   8%| |"
     ]
    },
    {
     "name": "stdout",
     "output_type": "stream",
     "text": [
      "Could not process _DSC4383.ARW! Maybe try again later.\n",
      "Could not process IMG_8991.HEIC! Maybe try again later.\n",
      "Could not process _DSC4667.ARW! Maybe try again later.\n",
      "10.0\n",
      "-10.0\n",
      "34.0\n",
      "-34.0\n"
     ]
    },
    {
     "name": "stderr",
     "output_type": "stream",
     "text": [
      "Downloading IMG_0427-original.JPG to C:/Users/khard/OneDrive/Documents/...s/2018/03/23/IMG_0427-original.JPG:  16%|▏| 8"
     ]
    },
    {
     "name": "stdout",
     "output_type": "stream",
     "text": [
      "34.0\n",
      "-34.0\n"
     ]
    },
    {
     "name": "stderr",
     "output_type": "stream",
     "text": [
      "Downloading IMG_3813-original.TIF to C:/Users/khard/OneDrive/Documents/...s/2023/06/25/IMG_3813-original.TIF:  18%|▏| 9"
     ]
    },
    {
     "name": "stdout",
     "output_type": "stream",
     "text": [
      "Could not process _DSC7009.ARW! Maybe try again later.\n",
      "Could not process _DSC0754.ARW! Maybe try again later.\n",
      "Could not process IMG_8774.HEIC! Maybe try again later.\n",
      "Could not process IMG_5426.HEIC! Maybe try again later.\n",
      "34.0\n",
      "-34.0\n"
     ]
    },
    {
     "name": "stderr",
     "output_type": "stream",
     "text": [
      "Downloading IMG_3659-original.TIF to C:/Users/khard/OneDrive/Documents/...s/2023/06/10/IMG_3659-original.TIF:  28%|▎| 1"
     ]
    },
    {
     "name": "stdout",
     "output_type": "stream",
     "text": [
      "Could not process IMG_4570.MOV! Maybe try again later.\n",
      "Could not process _DSC7462.ARW! Maybe try again later.\n",
      "Could not process IMG_1652.HEIC! Maybe try again later.\n",
      "Could not process _DSC0515.ARW! Maybe try again later.\n",
      "Could not process _DSC7091.ARW! Maybe try again later.\n",
      "Could not process _DSC6406.ARW! Maybe try again later.\n",
      "Could not process _DSC7140.ARW! Maybe try again later.\n",
      "Could not process IMG_2343.HEIC! Maybe try again later.\n",
      "Could not process _DSC3983.ARW! Maybe try again later.\n",
      "Could not process _DSC6453.ARW! Maybe try again later.\n",
      "Could not process IMG_4130.HEIC! Maybe try again later.\n",
      "Could not process IMG_9201.HEIC! Maybe try again later.\n",
      "Could not process _DSC6553.ARW! Maybe try again later.\n",
      "Could not process IMG_8974.HEIC! Maybe try again later.\n",
      "Could not process _DSC4408.ARW! Maybe try again later.\n",
      "Could not process IMG_8892.HEIC! Maybe try again later.\n",
      "34.0\n",
      "-34.0\n"
     ]
    },
    {
     "name": "stderr",
     "output_type": "stream",
     "text": [
      "Downloading IMG_8831-original.TIF to C:/Users/khard/OneDrive/Documents/...s/2021/11/06/IMG_8831-original.TIF:  62%|▌| 3"
     ]
    },
    {
     "name": "stdout",
     "output_type": "stream",
     "text": [
      "Could not process _DSC9419.ARW! Maybe try again later.\n",
      "Could not process _DSC0295.ARW! Maybe try again later.\n",
      "34.0\n",
      "-34.0\n"
     ]
    },
    {
     "name": "stderr",
     "output_type": "stream",
     "text": [
      "Downloading GPTempDown...iginal.jpg to C:/Users/khard/OneDrive/Documents/.../04/01/GPTempDownload-original.jpg:  68%|▋|"
     ]
    },
    {
     "name": "stdout",
     "output_type": "stream",
     "text": [
      "10.0\n",
      "-10.0\n",
      "34.0\n",
      "-34.0\n"
     ]
    },
    {
     "name": "stderr",
     "output_type": "stream",
     "text": [
      "Downloading IMG_1173-original.JPG to C:/Users/khard/OneDrive/Documents/...s/2016/11/01/IMG_1173-original.JPG:  70%|▋| 3"
     ]
    },
    {
     "name": "stdout",
     "output_type": "stream",
     "text": [
      "Could not process _DSC4413.ARW! Maybe try again later.\n",
      "Could not process _DSC3865.ARW! Maybe try again later.\n",
      "Could not process IMG_9044.HEIC! Maybe try again later.\n",
      "Could not process _DSC9660.ARW! Maybe try again later.\n",
      "Could not process IMG_5384.HEIC! Maybe try again later.\n",
      "Could not process _DSC9985.ARW! Maybe try again later.\n",
      "Could not process _DSC5524.ARW! Maybe try again later.\n",
      "Could not process _DSC4416.ARW! Maybe try again later.\n",
      "Could not process IMG_2966.HEIC! Maybe try again later.\n",
      "Could not process IMG_0116.MOV! Maybe try again later.\n",
      "Could not process IMG_3973.HEIC! Maybe try again later.\n",
      "Could not process _DSC5300.ARW! Maybe try again later.\n",
      "Could not process _DSC9586.ARW! Maybe try again later.\n",
      "Could not process _DSC5121.ARW! Maybe try again later.\n",
      "34.0\n",
      "-34.0\n"
     ]
    },
    {
     "name": "stderr",
     "output_type": "stream",
     "text": [
      "Downloading IMG_1173-original.JPG to C:/Users/khard/OneDrive/Documents/...s/2016/11/01/IMG_1173-original.JPG: 100%|█| 5\n"
     ]
    },
    {
     "name": "stdout",
     "output_type": "stream",
     "text": [
      "All photos have been downloaded!\n"
     ]
    }
   ],
   "source": [
    "from PIL import Image\n",
    "Image.CUBIC = Image.BICUBIC\n",
    "import ttkbootstrap as ttk\n",
    "from ttkbootstrap.constants import *\n",
    "import tkinter as tk\n",
    "import os, time, sys, queue, datetime\n",
    "from csv import writer\n",
    "from datetime import datetime, timedelta\n",
    "from threading import Thread, Event\n",
    "from tkinter import filedialog, Canvas, Label, LabelFrame, Frame, PhotoImage, Button, Entry, Scrollbar, StringVar, IntVar, DoubleVar#, ttk \n",
    "from matplotlib.backends.backend_tkagg import FigureCanvasTkAgg\n",
    "from matplotlib.figure import Figure\n",
    "import multiprocessing as mp\n",
    "import http.server\n",
    "import socketserver\n",
    "from contextlib import closing\n",
    "from more_itertools import time_limited\n",
    "from math import floor\n",
    "sys.path.append(\"BROODMINDER_GET\")\n",
    "from BROODMINDER_GET import BROODMINDER_GET\n",
    "sys.path.append(\"PYICLOUD_GET\")\n",
    "import PYICLOUD_GET\n",
    "\n",
    "# root window (parent to all), controller to Frames\n",
    "class Windows(tk.Tk):\n",
    "    def __init__(self, *args, **kwargs):\n",
    "        tk.Tk.__init__(self, *args, **kwargs)\n",
    "        self.shared_data = {\n",
    "            \"window_geometry\":    [IntVar(self, 1280),  IntVar(self, 800)],\n",
    "            \"padding\":     IntVar(self, 5),\n",
    "            \"num_rows\":    IntVar(self, 3),\n",
    "            \"num_cols\":    IntVar(self, 5),\n",
    "        }\n",
    "        self.shared_data.update({\"notebook_geometry\": [IntVar(self, int(self.shared_data[\"window_geometry\"][0].get()) - (int(self.shared_data[\"padding\"].get()) * 3)), # width\n",
    "                                                       IntVar(self, int(self.shared_data[\"window_geometry\"][1].get()) - (int(self.shared_data[\"padding\"].get()) * 9)), # height\n",
    "                                                      ]})\n",
    "        self.shared_data.update({\"LF_geometry\": [IntVar(self, (int(self.shared_data[\"notebook_geometry\"][0].get()) - (int(self.shared_data[\"padding\"].get()) * int(self.shared_data[\"num_cols\"].get()) * 2 - 1)) / int(self.shared_data[\"num_cols\"].get())), # width\n",
    "                                                 IntVar(self, (int(self.shared_data[\"notebook_geometry\"][1].get()) - (int(self.shared_data[\"padding\"].get()) * int(self.shared_data[\"num_rows\"].get()) * 2)) / int(self.shared_data[\"num_rows\"].get()) - 30), # height\n",
    "                                                ]})\n",
    "        self.wm_title(\"Creative Envy Dashboard\")\n",
    "        ttk.Style(\"darkly\")\n",
    "        self.geometry(str(self.shared_data[\"window_geometry\"][0].get()) + \"x\" + str(self.shared_data[\"window_geometry\"][1].get()))\n",
    "        self.resizable(False, False)\n",
    "        self.container = Frame(self)\n",
    "        self.container.grid_rowconfigure(0, weight=1)\n",
    "        self.container.grid_columnconfigure(0, weight=1)\n",
    "        main_notebook = ttk.Notebook(\n",
    "            self,\n",
    "            height = str(self.shared_data[\"notebook_geometry\"][1].get()),\n",
    "            width = str(self.shared_data[\"notebook_geometry\"][0].get()),\n",
    "        ) # \"self\" as passed argument means Windows is parent\n",
    "        tab_names = [\"Dash\", \"Alarm\", \"Photos\"]\n",
    "        for i, F in enumerate([Pane1, Pane2, Pane3]):\n",
    "            frame = F(main_notebook, self)\n",
    "            #main_notebook.add(frame, text= 'Tab %s' % (i + 1)) # \"self.\" adds to this instance, ...(self) adds to parent instance\n",
    "            main_notebook.add(frame, text=tab_names[i]) # \"self.\" adds to this instance, ...(self) adds to parent instance\n",
    "        main_notebook.grid(\n",
    "            row=0,\n",
    "            column=0,\n",
    "            #sticky=\"nsew\",\n",
    "            padx=(int(self.shared_data[\"padding\"].get()), int(self.shared_data[\"padding\"].get())),\n",
    "            pady=(int(self.shared_data[\"padding\"].get()), int(self.shared_data[\"padding\"].get())),\n",
    "        )\n",
    "        \n",
    "        def on_tab_change(event):\n",
    "            index = main_notebook.index(main_notebook.select())\n",
    "        main_notebook.bind(\"<<NotebookTabChanged>>\", on_tab_change)\n",
    "\n",
    "class Pane1(tk.Frame): # child to Notebook\n",
    "    def __init__(self, parent, controller):\n",
    "        tk.Frame.__init__(self, parent)\n",
    "        self.controller = controller\n",
    "        \n",
    "        # Pane1 Objects\n",
    "        # Loop to create LabelFrames\n",
    "        lfs = []\n",
    "        lf_labels = \"Time/Sunrise/Sunset\", \"Moon Phase\", \"Wx Forecast\", \"\", \"Honey Wt./Bee Count\", \"Temp\", \"Solar Rad.\", \"Wind Spd./Dir.\", \"Chook Temp\", \"Bee Wt.\", \"Humidity\", \"UV Index\", \"Precip.\", \"Bee Temp.\", \"Bee Humid.\",\n",
    "        i = 0\n",
    "        while i < 15:\n",
    "            lfs.append(ttk.LabelFrame(\n",
    "                self,\n",
    "                relief=\"solid\",\n",
    "                borderwidth=1,\n",
    "                width=str(self.controller.shared_data[\"LF_geometry\"][0].get()),\n",
    "                height=str(self.controller.shared_data[\"LF_geometry\"][1].get()),\n",
    "                padding=int(self.controller.shared_data[\"padding\"].get()),\n",
    "                text=lf_labels[i],\n",
    "            ))\n",
    "            if i == 2:\n",
    "                lfs[-1].grid(row = floor(i/5), column = i % 5, columnspan = 2, sticky=\"nsew\", padx=int(self.controller.shared_data[\"padding\"].get()), pady=int(self.controller.shared_data[\"padding\"].get()))\n",
    "                i = i + 2\n",
    "            else:\n",
    "                lfs[-1].grid(row = floor(i/5), column = i % 5, sticky=\"nsew\", padx=int(self.controller.shared_data[\"padding\"].get()), pady=int(self.controller.shared_data[\"padding\"].get()))\n",
    "                i = i + 1\n",
    "        \n",
    "        # Loop to create Meters\n",
    "        i = 4\n",
    "        meters = []\n",
    "        while i < len(lfs):\n",
    "            meters.append(ttk.Meter(\n",
    "                lfs[i],\n",
    "                metersize=min(int(self.controller.shared_data[\"LF_geometry\"][0].get()), int(self.controller.shared_data[\"LF_geometry\"][1].get())),\n",
    "                amountused=25,\n",
    "                metertype=\"semi\",\n",
    "                subtext=lf_labels[i + 1],\n",
    "                showtext=True,\n",
    "                interactive=False,\n",
    "            ))\n",
    "            meters[-1].grid(row = floor((i-4)/5) + 1, column = (i - 4) % 5, sticky=\"nsew\", padx=int(self.controller.shared_data[\"padding\"].get()), pady=int(self.controller.shared_data[\"padding\"].get()), ipadx=int(self.controller.shared_data[\"padding\"].get()), ipady=int(self.controller.shared_data[\"padding\"].get())) # for some reason ipad works better on meter than LF\n",
    "            i = i + 1\n",
    "\n",
    "class Pane2(tk.Frame):\n",
    "    def __init__(self, parent, controller):\n",
    "        tk.Frame.__init__(self, parent)\n",
    "        self.controller = controller\n",
    "        # Pane2 Objects\n",
    "        canvas1 = tk.Canvas(\n",
    "            self,\n",
    "            width=str(self.controller.shared_data[\"notebook_geometry\"][0].get()),\n",
    "            height=str(self.controller.shared_data[\"notebook_geometry\"][1].get()),\n",
    "        ).grid(row=0, column=0)\n",
    "        PYICLOUD_GET.download()\n",
    "\n",
    "class Pane3(tk.Frame): # Picture Frame (need to install pyicloud)\n",
    "    def __init__(self, parent, controller):\n",
    "        tk.Frame.__init__(self, parent)\n",
    "        self.controller = controller\n",
    "        # Pane3 Objects\n",
    "        canvas1 = tk.Canvas(\n",
    "            self,\n",
    "            width=str(self.controller.shared_data[\"notebook_geometry\"][0].get()),\n",
    "            height=str(self.controller.shared_data[\"notebook_geometry\"][1].get()),\n",
    "        )\n",
    "        canvas1.create_rectangle(0, 0, int(self.controller.shared_data[\"notebook_geometry\"][0].get()), int(self.controller.shared_data[\"notebook_geometry\"][1].get()), fill=\"#444444\")\n",
    "        canvas1.create_rectangle(20, 20, int(self.controller.shared_data[\"notebook_geometry\"][0].get()) - 20, int(self.controller.shared_data[\"notebook_geometry\"][1].get()) - 50, fill=\"black\")\n",
    "        canvas1.grid(row=0, column=0)\n",
    "\n",
    "def main(): # creates main window and calls main loop\n",
    "    windows = Windows()\n",
    "    windows.mainloop()\n",
    "    \n",
    "if __name__ == '__main__': # runs main if in python script\n",
    "    main()"
   ]
  },
  {
   "cell_type": "raw",
   "id": "1f829fc0-10f9-4c49-9493-ed86c2da4daa",
   "metadata": {},
   "source": []
  }
 ],
 "metadata": {
  "kernelspec": {
   "display_name": "Python 3 (ipykernel)",
   "language": "python",
   "name": "python3"
  },
  "language_info": {
   "codemirror_mode": {
    "name": "ipython",
    "version": 3
   },
   "file_extension": ".py",
   "mimetype": "text/x-python",
   "name": "python",
   "nbconvert_exporter": "python",
   "pygments_lexer": "ipython3",
   "version": "3.9.17"
  }
 },
 "nbformat": 4,
 "nbformat_minor": 5
}
